{
 "cells": [
  {
   "cell_type": "markdown",
   "metadata": {},
   "source": [
    "# Import Packages"
   ]
  },
  {
   "cell_type": "code",
   "execution_count": 1,
   "metadata": {},
   "outputs": [],
   "source": [
    "import pandas as pd\n",
    "import numpy as np\n",
    "from tqdm import tqdm\n",
    "import os\n",
    "import matplotlib.pyplot as plt\n",
    "from sklearn.model_selection import train_test_split\n",
    "from sklearn.metrics import accuracy_score\n",
    "import torch\n",
    "from torch.autograd import Variable\n",
    "import torch.nn as nn\n",
    "import torch.nn.functional as F\n",
    "from torch.optim import *\n",
    "import h5py\n",
    "from plot3D import *\n",
    "from utils import *\n",
    "from model import *"
   ]
  },
  {
   "cell_type": "markdown",
   "metadata": {},
   "source": [
    "# Load the vectors "
   ]
  },
  {
   "cell_type": "code",
   "execution_count": 2,
   "metadata": {},
   "outputs": [],
   "source": [
    "with h5py.File(\"./full_dataset_vectors.h5\", \"r\") as hf:    \n",
    "    X_train = hf[\"X_train\"][:]\n",
    "    targets_train = hf[\"y_train\"][:]\n",
    "    X_test = hf[\"X_test\"][:] \n",
    "    targets_test = hf[\"y_test\"][:]\n",
    "    \n",
    "X_train = rgb_data_transform(X_train)\n",
    "X_test = rgb_data_transform(X_test)"
   ]
  },
  {
   "cell_type": "markdown",
   "metadata": {},
   "source": [
    "# Create Datasets and Dataloaders"
   ]
  },
  {
   "cell_type": "code",
   "execution_count": 3,
   "metadata": {},
   "outputs": [],
   "source": [
    "train_x = torch.from_numpy(X_train).float()\n",
    "train_y = torch.from_numpy(targets_train).long()\n",
    "test_x = torch.from_numpy(X_test).float()\n",
    "test_y = torch.from_numpy(targets_test).long()\n",
    "\n",
    "batch_size = 2000\n",
    "\n",
    "train_ds = torch.utils.data.TensorDataset(train_x,train_y)\n",
    "test_ds = torch.utils.data.TensorDataset(test_x,test_y)\n",
    "\n",
    "train_loader = torch.utils.data.DataLoader(train_ds, batch_size = batch_size, shuffle = False)\n",
    "test_loader = torch.utils.data.DataLoader(test_ds, batch_size = batch_size, shuffle = False)"
   ]
  },
  {
   "cell_type": "markdown",
   "metadata": {},
   "source": [
    "# Define Hyperparameters"
   ]
  },
  {
   "cell_type": "code",
   "execution_count": 4,
   "metadata": {},
   "outputs": [],
   "source": [
    "num_epochs = 160\n",
    "\n",
    "model = CNNModel()\n",
    "# model = LinearModel()\n",
    "model = model.cuda()\n",
    "\n",
    "error = nn.CrossEntropyLoss()\n",
    "\n",
    "learning_rate = 0.00005\n",
    "optimizer = torch.optim.Adam(model.parameters(), lr=learning_rate)\n",
    "# scheduler = torch.optim.lr_scheduler.CyclicLR(optimizer,0.005,0.1,cycle_momentum=False)"
   ]
  },
  {
   "cell_type": "markdown",
   "metadata": {},
   "source": [
    "# Show Model Summary"
   ]
  },
  {
   "cell_type": "code",
   "execution_count": 5,
   "metadata": {},
   "outputs": [
    {
     "name": "stdout",
     "output_type": "stream",
     "text": [
      "----------------------------------------------------------------\n",
      "        Layer (type)               Output Shape         Param #\n",
      "================================================================\n",
      "            Conv3d-1      [2000, 8, 14, 14, 14]             656\n",
      "            Conv3d-2     [2000, 32, 12, 12, 12]           6,944\n",
      "         MaxPool3d-3        [2000, 32, 3, 3, 3]               0\n",
      "            Conv3d-4        [2000, 32, 1, 1, 1]          27,680\n",
      "       BatchNorm3d-5        [2000, 32, 1, 1, 1]              64\n",
      "           Dropout-6                 [2000, 32]               0\n",
      "            Linear-7                 [2000, 10]             330\n",
      "================================================================\n",
      "Total params: 35,674\n",
      "Trainable params: 35,674\n",
      "Non-trainable params: 0\n",
      "----------------------------------------------------------------\n",
      "Input size (MB): 93.75\n",
      "Forward/backward pass size (MB): 1193.51\n",
      "Params size (MB): 0.14\n",
      "Estimated Total Size (MB): 1287.40\n",
      "----------------------------------------------------------------\n"
     ]
    }
   ],
   "source": [
    "from torchsummary import summary\n",
    "summary(model,(3,16,16,16),batch_size=batch_size)"
   ]
  },
  {
   "cell_type": "markdown",
   "metadata": {},
   "source": [
    "# Train the Model"
   ]
  },
  {
   "cell_type": "code",
   "execution_count": 6,
   "metadata": {},
   "outputs": [
    {
     "name": "stdout",
     "output_type": "stream",
     "text": [
      "Epoch: 0  Train Loss:2.53, Test Loss:2.32, Train Accuracy:0.11, Test Accuracy:0.10\n",
      "Epoch: 1  Train Loss:2.45, Test Loss:2.31, Train Accuracy:0.13, Test Accuracy:0.12\n",
      "Epoch: 2  Train Loss:2.38, Test Loss:2.30, Train Accuracy:0.16, Test Accuracy:0.13\n",
      "Epoch: 3  Train Loss:2.32, Test Loss:2.28, Train Accuracy:0.19, Test Accuracy:0.16\n",
      "Epoch: 4  Train Loss:2.26, Test Loss:2.26, Train Accuracy:0.21, Test Accuracy:0.18\n",
      "Epoch: 5  Train Loss:2.22, Test Loss:2.23, Train Accuracy:0.23, Test Accuracy:0.23\n",
      "Epoch: 6  Train Loss:2.17, Test Loss:2.20, Train Accuracy:0.26, Test Accuracy:0.28\n",
      "Epoch: 7  Train Loss:2.13, Test Loss:2.15, Train Accuracy:0.26, Test Accuracy:0.30\n",
      "Epoch: 8  Train Loss:2.11, Test Loss:2.10, Train Accuracy:0.27, Test Accuracy:0.31\n",
      "Epoch: 9  Train Loss:2.07, Test Loss:2.05, Train Accuracy:0.30, Test Accuracy:0.33\n",
      "Epoch: 10  Train Loss:2.04, Test Loss:2.00, Train Accuracy:0.31, Test Accuracy:0.33\n",
      "Epoch: 11  Train Loss:2.01, Test Loss:1.95, Train Accuracy:0.33, Test Accuracy:0.34\n",
      "Epoch: 12  Train Loss:1.99, Test Loss:1.90, Train Accuracy:0.33, Test Accuracy:0.35\n",
      "Epoch: 13  Train Loss:1.96, Test Loss:1.86, Train Accuracy:0.34, Test Accuracy:0.36\n",
      "Epoch: 14  Train Loss:1.94, Test Loss:1.83, Train Accuracy:0.34, Test Accuracy:0.37\n",
      "Epoch: 15  Train Loss:1.92, Test Loss:1.80, Train Accuracy:0.35, Test Accuracy:0.39\n",
      "Epoch: 16  Train Loss:1.89, Test Loss:1.77, Train Accuracy:0.37, Test Accuracy:0.40\n",
      "Epoch: 17  Train Loss:1.88, Test Loss:1.74, Train Accuracy:0.38, Test Accuracy:0.41\n",
      "Epoch: 18  Train Loss:1.85, Test Loss:1.72, Train Accuracy:0.38, Test Accuracy:0.42\n",
      "Epoch: 19  Train Loss:1.83, Test Loss:1.71, Train Accuracy:0.40, Test Accuracy:0.43\n",
      "Epoch: 20  Train Loss:1.82, Test Loss:1.69, Train Accuracy:0.39, Test Accuracy:0.45\n",
      "Epoch: 21  Train Loss:1.79, Test Loss:1.67, Train Accuracy:0.41, Test Accuracy:0.46\n",
      "Epoch: 22  Train Loss:1.77, Test Loss:1.65, Train Accuracy:0.42, Test Accuracy:0.46\n",
      "Epoch: 23  Train Loss:1.76, Test Loss:1.64, Train Accuracy:0.44, Test Accuracy:0.47\n",
      "Epoch: 24  Train Loss:1.75, Test Loss:1.62, Train Accuracy:0.43, Test Accuracy:0.48\n",
      "Epoch: 25  Train Loss:1.73, Test Loss:1.61, Train Accuracy:0.45, Test Accuracy:0.49\n",
      "Epoch: 26  Train Loss:1.71, Test Loss:1.60, Train Accuracy:0.45, Test Accuracy:0.49\n",
      "Epoch: 27  Train Loss:1.70, Test Loss:1.58, Train Accuracy:0.45, Test Accuracy:0.50\n",
      "Epoch: 28  Train Loss:1.68, Test Loss:1.57, Train Accuracy:0.45, Test Accuracy:0.51\n",
      "Epoch: 29  Train Loss:1.67, Test Loss:1.56, Train Accuracy:0.46, Test Accuracy:0.51\n",
      "Epoch: 30  Train Loss:1.66, Test Loss:1.55, Train Accuracy:0.46, Test Accuracy:0.52\n",
      "Epoch: 31  Train Loss:1.65, Test Loss:1.54, Train Accuracy:0.47, Test Accuracy:0.52\n",
      "Epoch: 32  Train Loss:1.63, Test Loss:1.53, Train Accuracy:0.48, Test Accuracy:0.52\n",
      "Epoch: 33  Train Loss:1.63, Test Loss:1.52, Train Accuracy:0.48, Test Accuracy:0.53\n",
      "Epoch: 34  Train Loss:1.61, Test Loss:1.52, Train Accuracy:0.49, Test Accuracy:0.53\n",
      "Epoch: 35  Train Loss:1.60, Test Loss:1.51, Train Accuracy:0.49, Test Accuracy:0.53\n",
      "Epoch: 36  Train Loss:1.59, Test Loss:1.50, Train Accuracy:0.49, Test Accuracy:0.54\n",
      "Epoch: 37  Train Loss:1.58, Test Loss:1.49, Train Accuracy:0.50, Test Accuracy:0.54\n",
      "Epoch: 38  Train Loss:1.57, Test Loss:1.48, Train Accuracy:0.50, Test Accuracy:0.54\n",
      "Epoch: 39  Train Loss:1.56, Test Loss:1.48, Train Accuracy:0.50, Test Accuracy:0.55\n",
      "Epoch: 40  Train Loss:1.55, Test Loss:1.47, Train Accuracy:0.51, Test Accuracy:0.55\n",
      "Epoch: 41  Train Loss:1.54, Test Loss:1.46, Train Accuracy:0.51, Test Accuracy:0.55\n",
      "Epoch: 42  Train Loss:1.54, Test Loss:1.45, Train Accuracy:0.52, Test Accuracy:0.55\n",
      "Epoch: 43  Train Loss:1.53, Test Loss:1.44, Train Accuracy:0.50, Test Accuracy:0.56\n",
      "Epoch: 44  Train Loss:1.52, Test Loss:1.44, Train Accuracy:0.52, Test Accuracy:0.56\n",
      "Epoch: 45  Train Loss:1.51, Test Loss:1.43, Train Accuracy:0.53, Test Accuracy:0.56\n",
      "Epoch: 46  Train Loss:1.50, Test Loss:1.43, Train Accuracy:0.52, Test Accuracy:0.56\n",
      "Epoch: 47  Train Loss:1.50, Test Loss:1.43, Train Accuracy:0.53, Test Accuracy:0.56\n",
      "Epoch: 48  Train Loss:1.49, Test Loss:1.42, Train Accuracy:0.53, Test Accuracy:0.56\n",
      "Epoch: 49  Train Loss:1.49, Test Loss:1.42, Train Accuracy:0.53, Test Accuracy:0.56\n",
      "Epoch: 50  Train Loss:1.47, Test Loss:1.41, Train Accuracy:0.53, Test Accuracy:0.57\n",
      "Epoch: 51  Train Loss:1.48, Test Loss:1.41, Train Accuracy:0.55, Test Accuracy:0.57\n",
      "Epoch: 52  Train Loss:1.47, Test Loss:1.40, Train Accuracy:0.54, Test Accuracy:0.57\n",
      "Epoch: 53  Train Loss:1.46, Test Loss:1.40, Train Accuracy:0.53, Test Accuracy:0.57\n",
      "Epoch: 54  Train Loss:1.45, Test Loss:1.40, Train Accuracy:0.54, Test Accuracy:0.57\n",
      "Epoch: 55  Train Loss:1.45, Test Loss:1.39, Train Accuracy:0.55, Test Accuracy:0.57\n",
      "Epoch: 56  Train Loss:1.44, Test Loss:1.39, Train Accuracy:0.55, Test Accuracy:0.57\n",
      "Epoch: 57  Train Loss:1.43, Test Loss:1.39, Train Accuracy:0.54, Test Accuracy:0.57\n",
      "Epoch: 58  Train Loss:1.43, Test Loss:1.38, Train Accuracy:0.56, Test Accuracy:0.57\n",
      "Epoch: 59  Train Loss:1.42, Test Loss:1.38, Train Accuracy:0.55, Test Accuracy:0.57\n",
      "Epoch: 60  Train Loss:1.41, Test Loss:1.37, Train Accuracy:0.56, Test Accuracy:0.57\n",
      "Epoch: 61  Train Loss:1.41, Test Loss:1.37, Train Accuracy:0.56, Test Accuracy:0.58\n",
      "Epoch: 62  Train Loss:1.41, Test Loss:1.36, Train Accuracy:0.56, Test Accuracy:0.58\n",
      "Epoch: 63  Train Loss:1.40, Test Loss:1.36, Train Accuracy:0.56, Test Accuracy:0.58\n",
      "Epoch: 64  Train Loss:1.41, Test Loss:1.35, Train Accuracy:0.57, Test Accuracy:0.58\n",
      "Epoch: 65  Train Loss:1.40, Test Loss:1.35, Train Accuracy:0.57, Test Accuracy:0.58\n",
      "Epoch: 66  Train Loss:1.39, Test Loss:1.35, Train Accuracy:0.57, Test Accuracy:0.58\n",
      "Epoch: 67  Train Loss:1.38, Test Loss:1.34, Train Accuracy:0.56, Test Accuracy:0.58\n",
      "Epoch: 68  Train Loss:1.38, Test Loss:1.34, Train Accuracy:0.58, Test Accuracy:0.58\n",
      "Epoch: 69  Train Loss:1.38, Test Loss:1.34, Train Accuracy:0.58, Test Accuracy:0.59\n",
      "Epoch: 70  Train Loss:1.37, Test Loss:1.34, Train Accuracy:0.57, Test Accuracy:0.59\n",
      "Epoch: 71  Train Loss:1.36, Test Loss:1.34, Train Accuracy:0.58, Test Accuracy:0.59\n",
      "Epoch: 72  Train Loss:1.37, Test Loss:1.33, Train Accuracy:0.58, Test Accuracy:0.59\n",
      "Epoch: 73  Train Loss:1.36, Test Loss:1.32, Train Accuracy:0.58, Test Accuracy:0.59\n",
      "Epoch: 74  Train Loss:1.35, Test Loss:1.32, Train Accuracy:0.58, Test Accuracy:0.59\n",
      "Epoch: 75  Train Loss:1.35, Test Loss:1.32, Train Accuracy:0.59, Test Accuracy:0.59\n",
      "Epoch: 76  Train Loss:1.34, Test Loss:1.32, Train Accuracy:0.59, Test Accuracy:0.59\n",
      "Epoch: 77  Train Loss:1.35, Test Loss:1.31, Train Accuracy:0.58, Test Accuracy:0.59\n",
      "Epoch: 78  Train Loss:1.34, Test Loss:1.31, Train Accuracy:0.58, Test Accuracy:0.60\n",
      "Epoch: 79  Train Loss:1.34, Test Loss:1.30, Train Accuracy:0.58, Test Accuracy:0.60\n",
      "Epoch: 80  Train Loss:1.33, Test Loss:1.30, Train Accuracy:0.59, Test Accuracy:0.60\n",
      "Epoch: 81  Train Loss:1.32, Test Loss:1.30, Train Accuracy:0.58, Test Accuracy:0.60\n",
      "Epoch: 82  Train Loss:1.33, Test Loss:1.30, Train Accuracy:0.58, Test Accuracy:0.60\n",
      "Epoch: 83  Train Loss:1.32, Test Loss:1.29, Train Accuracy:0.58, Test Accuracy:0.60\n",
      "Epoch: 84  Train Loss:1.31, Test Loss:1.29, Train Accuracy:0.60, Test Accuracy:0.61\n",
      "Epoch: 85  Train Loss:1.31, Test Loss:1.29, Train Accuracy:0.61, Test Accuracy:0.61\n",
      "Epoch: 86  Train Loss:1.30, Test Loss:1.29, Train Accuracy:0.60, Test Accuracy:0.60\n",
      "Epoch: 87  Train Loss:1.31, Test Loss:1.29, Train Accuracy:0.59, Test Accuracy:0.61\n",
      "Epoch: 88  Train Loss:1.30, Test Loss:1.28, Train Accuracy:0.59, Test Accuracy:0.61\n",
      "Epoch: 89  Train Loss:1.30, Test Loss:1.28, Train Accuracy:0.59, Test Accuracy:0.61\n",
      "Epoch: 90  Train Loss:1.30, Test Loss:1.28, Train Accuracy:0.59, Test Accuracy:0.61\n",
      "Epoch: 91  Train Loss:1.28, Test Loss:1.27, Train Accuracy:0.60, Test Accuracy:0.61\n",
      "Epoch: 92  Train Loss:1.28, Test Loss:1.27, Train Accuracy:0.60, Test Accuracy:0.61\n",
      "Epoch: 93  Train Loss:1.28, Test Loss:1.26, Train Accuracy:0.60, Test Accuracy:0.61\n",
      "Epoch: 94  Train Loss:1.28, Test Loss:1.26, Train Accuracy:0.60, Test Accuracy:0.61\n",
      "Epoch: 95  Train Loss:1.28, Test Loss:1.26, Train Accuracy:0.60, Test Accuracy:0.61\n",
      "Epoch: 96  Train Loss:1.27, Test Loss:1.26, Train Accuracy:0.60, Test Accuracy:0.62\n",
      "Epoch: 97  Train Loss:1.27, Test Loss:1.25, Train Accuracy:0.61, Test Accuracy:0.62\n"
     ]
    },
    {
     "name": "stdout",
     "output_type": "stream",
     "text": [
      "Epoch: 98  Train Loss:1.27, Test Loss:1.25, Train Accuracy:0.61, Test Accuracy:0.62\n",
      "Epoch: 99  Train Loss:1.27, Test Loss:1.24, Train Accuracy:0.60, Test Accuracy:0.62\n",
      "Epoch: 100  Train Loss:1.26, Test Loss:1.24, Train Accuracy:0.61, Test Accuracy:0.61\n",
      "Epoch: 101  Train Loss:1.25, Test Loss:1.24, Train Accuracy:0.62, Test Accuracy:0.62\n",
      "Epoch: 102  Train Loss:1.25, Test Loss:1.24, Train Accuracy:0.62, Test Accuracy:0.62\n",
      "Epoch: 103  Train Loss:1.25, Test Loss:1.24, Train Accuracy:0.62, Test Accuracy:0.62\n",
      "Epoch: 104  Train Loss:1.25, Test Loss:1.24, Train Accuracy:0.62, Test Accuracy:0.62\n",
      "Epoch: 105  Train Loss:1.24, Test Loss:1.24, Train Accuracy:0.62, Test Accuracy:0.62\n",
      "Epoch: 106  Train Loss:1.24, Test Loss:1.24, Train Accuracy:0.61, Test Accuracy:0.62\n",
      "Epoch: 107  Train Loss:1.24, Test Loss:1.24, Train Accuracy:0.63, Test Accuracy:0.62\n",
      "Epoch: 108  Train Loss:1.24, Test Loss:1.23, Train Accuracy:0.62, Test Accuracy:0.62\n",
      "Epoch: 109  Train Loss:1.23, Test Loss:1.23, Train Accuracy:0.61, Test Accuracy:0.63\n",
      "Epoch: 110  Train Loss:1.23, Test Loss:1.23, Train Accuracy:0.63, Test Accuracy:0.62\n",
      "Epoch: 111  Train Loss:1.22, Test Loss:1.23, Train Accuracy:0.62, Test Accuracy:0.62\n",
      "Epoch: 112  Train Loss:1.22, Test Loss:1.22, Train Accuracy:0.62, Test Accuracy:0.62\n",
      "Epoch: 113  Train Loss:1.22, Test Loss:1.22, Train Accuracy:0.61, Test Accuracy:0.62\n",
      "Epoch: 114  Train Loss:1.22, Test Loss:1.22, Train Accuracy:0.62, Test Accuracy:0.63\n",
      "Epoch: 115  Train Loss:1.22, Test Loss:1.21, Train Accuracy:0.63, Test Accuracy:0.63\n",
      "Epoch: 116  Train Loss:1.21, Test Loss:1.21, Train Accuracy:0.62, Test Accuracy:0.63\n",
      "Epoch: 117  Train Loss:1.21, Test Loss:1.21, Train Accuracy:0.63, Test Accuracy:0.63\n",
      "Epoch: 118  Train Loss:1.21, Test Loss:1.21, Train Accuracy:0.64, Test Accuracy:0.63\n",
      "Epoch: 119  Train Loss:1.21, Test Loss:1.21, Train Accuracy:0.64, Test Accuracy:0.63\n",
      "Epoch: 120  Train Loss:1.20, Test Loss:1.20, Train Accuracy:0.63, Test Accuracy:0.63\n",
      "Epoch: 121  Train Loss:1.20, Test Loss:1.20, Train Accuracy:0.64, Test Accuracy:0.63\n",
      "Epoch: 122  Train Loss:1.19, Test Loss:1.20, Train Accuracy:0.63, Test Accuracy:0.63\n",
      "Epoch: 123  Train Loss:1.19, Test Loss:1.19, Train Accuracy:0.63, Test Accuracy:0.64\n",
      "Epoch: 124  Train Loss:1.19, Test Loss:1.19, Train Accuracy:0.63, Test Accuracy:0.64\n",
      "Epoch: 125  Train Loss:1.19, Test Loss:1.19, Train Accuracy:0.63, Test Accuracy:0.64\n",
      "Epoch: 126  Train Loss:1.19, Test Loss:1.19, Train Accuracy:0.63, Test Accuracy:0.63\n",
      "Epoch: 127  Train Loss:1.18, Test Loss:1.19, Train Accuracy:0.63, Test Accuracy:0.63\n",
      "Epoch: 128  Train Loss:1.18, Test Loss:1.19, Train Accuracy:0.64, Test Accuracy:0.63\n",
      "Epoch: 129  Train Loss:1.18, Test Loss:1.18, Train Accuracy:0.63, Test Accuracy:0.64\n",
      "Epoch: 130  Train Loss:1.17, Test Loss:1.18, Train Accuracy:0.65, Test Accuracy:0.64\n",
      "Epoch: 131  Train Loss:1.18, Test Loss:1.18, Train Accuracy:0.64, Test Accuracy:0.64\n",
      "Epoch: 132  Train Loss:1.17, Test Loss:1.18, Train Accuracy:0.64, Test Accuracy:0.64\n",
      "Epoch: 133  Train Loss:1.17, Test Loss:1.18, Train Accuracy:0.65, Test Accuracy:0.64\n",
      "Epoch: 134  Train Loss:1.17, Test Loss:1.17, Train Accuracy:0.65, Test Accuracy:0.64\n",
      "Epoch: 135  Train Loss:1.16, Test Loss:1.17, Train Accuracy:0.66, Test Accuracy:0.64\n",
      "Epoch: 136  Train Loss:1.16, Test Loss:1.17, Train Accuracy:0.65, Test Accuracy:0.64\n",
      "Epoch: 137  Train Loss:1.16, Test Loss:1.17, Train Accuracy:0.65, Test Accuracy:0.64\n",
      "Epoch: 138  Train Loss:1.16, Test Loss:1.16, Train Accuracy:0.65, Test Accuracy:0.64\n",
      "Epoch: 139  Train Loss:1.15, Test Loss:1.16, Train Accuracy:0.65, Test Accuracy:0.64\n",
      "Epoch: 140  Train Loss:1.15, Test Loss:1.16, Train Accuracy:0.64, Test Accuracy:0.64\n",
      "Epoch: 141  Train Loss:1.15, Test Loss:1.17, Train Accuracy:0.64, Test Accuracy:0.64\n",
      "Epoch: 142  Train Loss:1.15, Test Loss:1.17, Train Accuracy:0.65, Test Accuracy:0.63\n",
      "Epoch: 143  Train Loss:1.15, Test Loss:1.17, Train Accuracy:0.65, Test Accuracy:0.64\n",
      "Epoch: 144  Train Loss:1.14, Test Loss:1.16, Train Accuracy:0.64, Test Accuracy:0.64\n",
      "Epoch: 145  Train Loss:1.13, Test Loss:1.16, Train Accuracy:0.66, Test Accuracy:0.64\n",
      "Epoch: 146  Train Loss:1.13, Test Loss:1.15, Train Accuracy:0.65, Test Accuracy:0.64\n",
      "Epoch: 147  Train Loss:1.13, Test Loss:1.15, Train Accuracy:0.65, Test Accuracy:0.64\n",
      "Epoch: 148  Train Loss:1.13, Test Loss:1.15, Train Accuracy:0.66, Test Accuracy:0.64\n",
      "Epoch: 149  Train Loss:1.13, Test Loss:1.15, Train Accuracy:0.66, Test Accuracy:0.65\n",
      "Epoch: 150  Train Loss:1.12, Test Loss:1.15, Train Accuracy:0.65, Test Accuracy:0.65\n",
      "Epoch: 151  Train Loss:1.13, Test Loss:1.15, Train Accuracy:0.66, Test Accuracy:0.64\n",
      "Epoch: 152  Train Loss:1.12, Test Loss:1.15, Train Accuracy:0.66, Test Accuracy:0.64\n",
      "Epoch: 153  Train Loss:1.12, Test Loss:1.15, Train Accuracy:0.65, Test Accuracy:0.64\n",
      "Epoch: 154  Train Loss:1.11, Test Loss:1.15, Train Accuracy:0.67, Test Accuracy:0.64\n",
      "Epoch: 155  Train Loss:1.11, Test Loss:1.14, Train Accuracy:0.67, Test Accuracy:0.64\n",
      "Epoch: 156  Train Loss:1.11, Test Loss:1.13, Train Accuracy:0.65, Test Accuracy:0.65\n",
      "Epoch: 157  Train Loss:1.11, Test Loss:1.13, Train Accuracy:0.67, Test Accuracy:0.65\n",
      "Epoch: 158  Train Loss:1.11, Test Loss:1.13, Train Accuracy:0.66, Test Accuracy:0.65\n",
      "Epoch: 159  Train Loss:1.11, Test Loss:1.13, Train Accuracy:0.66, Test Accuracy:0.65\n"
     ]
    }
   ],
   "source": [
    "train_loss_list = []\n",
    "test_loss_list = []\n",
    "train_accuracy_list = []\n",
    "test_accuracy_list = []\n",
    "for epoch in range(num_epochs):\n",
    "    model.train()\n",
    "    running_acc = 0\n",
    "    train_loss = 0\n",
    "    for i, (images, labels) in enumerate(train_loader):     \n",
    "        train = Variable(images.permute(0,4,1,2,3)).cuda()\n",
    "        labels = Variable(labels).cuda()\n",
    "        optimizer.zero_grad()\n",
    "        outputs = model(train)\n",
    "        loss = error(outputs, labels)\n",
    "        train_loss+=loss.data\n",
    "        train_accuracy = accuracy_score(torch.argmax(outputs,axis = 1).cpu().numpy(),labels.cpu().numpy())\n",
    "        running_acc+=train_accuracy*len(images)\n",
    "        loss.backward()\n",
    "        optimizer.step()\n",
    "#         scheduler.step()\n",
    "    running_acc/=len(train_ds)\n",
    "    train_loss/=5\n",
    "    model.eval()\n",
    "    with torch.no_grad():\n",
    "        for images, labels in test_loader:\n",
    "            test = Variable(images.permute(0,4,1,2,3)).cuda()\n",
    "            outputs = model(test).detach()\n",
    "            test_loss = error(outputs,labels.cuda())\n",
    "            test_accuracy = accuracy_score(torch.argmax(outputs,axis = 1).cpu().numpy(),labels.cpu().numpy())\n",
    "    train_loss_list.append(train_loss)\n",
    "    test_loss_list.append(test_loss.data)\n",
    "    test_accuracy_list.append(test_accuracy)\n",
    "    train_accuracy_list.append(train_accuracy)\n",
    "    \n",
    "\n",
    "    print('Epoch: {}  Train Loss:{:.2f}, Test Loss:{:.2f}, Train Accuracy:{:.2f}, Test Accuracy:{:.2f}'.format(epoch, train_loss,test_loss,train_accuracy,test_accuracy))\n"
   ]
  },
  {
   "cell_type": "markdown",
   "metadata": {},
   "source": [
    "# Test the Model"
   ]
  },
  {
   "cell_type": "code",
   "execution_count": 7,
   "metadata": {},
   "outputs": [
    {
     "name": "stdout",
     "output_type": "stream",
     "text": [
      "0.6495\n"
     ]
    }
   ],
   "source": [
    "model.eval()\n",
    "with torch.no_grad():\n",
    "    for images, labels in test_loader:\n",
    "        test = Variable(images.permute(0,4,1,2,3)).cuda()\n",
    "        outputs = model(test).detach()\n",
    "        test_loss = error(outputs,labels.cuda())\n",
    "        test_accuracy = accuracy_score(torch.argmax(outputs,axis = 1).cpu().numpy(),labels.cpu().numpy())\n",
    "print(test_accuracy)\n",
    "torch.save(model.state_dict,'./CNN_5e-5.pth')"
   ]
  },
  {
   "cell_type": "markdown",
   "metadata": {},
   "source": [
    "# Generate Plots"
   ]
  },
  {
   "cell_type": "code",
   "execution_count": 8,
   "metadata": {},
   "outputs": [
    {
     "data": {
      "image/png": "[encoded data removed]",
      "text/plain": [
       "<Figure size 432x288 with 1 Axes>"
      ]
     },
     "metadata": {
      "needs_background": "light"
     },
     "output_type": "display_data"
    }
   ],
   "source": [
    "plt.plot(train_loss_list,label = 'train')\n",
    "plt.plot(test_loss_list,label = 'test')\n",
    "plt.legend()\n",
    "plt.xlabel(\"Number of epochs\")\n",
    "plt.ylabel(\"Loss\")\n",
    "plt.title(\"Loss vs Number of epochs\")\n",
    "plt.show()"
   ]
  },
  {
   "cell_type": "code",
   "execution_count": 9,
   "metadata": {},
   "outputs": [
    {
     "data": {
      "image/png": "[encoded data removed]",
      "text/plain": [
       "<Figure size 432x288 with 1 Axes>"
      ]
     },
     "metadata": {
      "needs_background": "light"
     },
     "output_type": "display_data"
    }
   ],
   "source": [
    "plt.plot(train_accuracy_list,color = \"red\",label = 'train')\n",
    "plt.plot(test_accuracy_list,color = \"green\",label = 'test')\n",
    "plt.legend()\n",
    "plt.xlabel(\"Number of epochs\")\n",
    "plt.ylabel(\"Accuracy\")\n",
    "plt.title(\"Accuracy vs Number of epochs\")\n",
    "plt.show()"
   ]
  },
  {
   "cell_type": "code",
   "execution_count": 10,
   "metadata": {},
   "outputs": [],
   "source": [
    "from torch.utils.tensorboard import SummaryWriter\n",
    "writer = SummaryWriter('runs/3dmnist')\n",
    "test = Variable(images.permute(0,4,1,2,3)).cuda()\n",
    "writer.add_graph(model,test)\n",
    "# writer.close()"
   ]
  }
 ],
 "metadata": {
  "kernelspec": {
   "display_name": "Python 3",
   "language": "python",
   "name": "python3"
  },
  "language_info": {
   "codemirror_mode": {
    "name": "ipython",
    "version": 3
   },
   "file_extension": ".py",
   "mimetype": "text/x-python",
   "name": "python",
   "nbconvert_exporter": "python",
   "pygments_lexer": "ipython3",
   "version": "3.7.8"
  }
 },
 "nbformat": 4,
 "nbformat_minor": 4
}
